{
 "cells": [
  {
   "cell_type": "code",
   "execution_count": 17,
   "metadata": {},
   "outputs": [
    {
     "data": {
      "text/plain": [
       "True"
      ]
     },
     "execution_count": 17,
     "metadata": {},
     "output_type": "execute_result"
    }
   ],
   "source": [
    "from typing import Annotated\n",
    "from typing_extensions import TypedDict\n",
    "\n",
    "from langgraph.graph import StateGraph, START, END\n",
    "from langgraph.prebuilt import ToolNode, tools_condition\n",
    "from langgraph.graph.message import add_messages\n",
    "from langchain_core.tools import tool\n",
    "from langchain_groq import ChatGroq\n",
    "from langgraph.checkpoint.memory import MemorySaver\n",
    "from langchain_core.messages import HumanMessage\n",
    "from langchain_community.tools.yahoo_finance_news import YahooFinanceNewsTool\n",
    "from langchain.prompts import ChatPromptTemplate\n",
    "from langchain_community.utilities.polygon import PolygonAPIWrapper\n",
    "from langchain_community.tools.polygon.aggregates import PolygonAggregates\n",
    "\n",
    "\n",
    "import re\n",
    "\n",
    "from dotenv import load_dotenv\n",
    "\n",
    "load_dotenv()"
   ]
  },
  {
   "cell_type": "code",
   "execution_count": 18,
   "metadata": {},
   "outputs": [],
   "source": [
    "llm = ChatGroq(\n",
    "    model=\"llama3-8b-8192\",\n",
    "    temperature=0,\n",
    "    max_tokens=None,\n",
    "    timeout=None,\n",
    "    max_retries=2\n",
    ")"
   ]
  },
  {
   "cell_type": "markdown",
   "metadata": {},
   "source": [
    "### BASIC CHATBOT"
   ]
  },
  {
   "cell_type": "code",
   "execution_count": 40,
   "metadata": {},
   "outputs": [],
   "source": [
    "class State(TypedDict):\n",
    "    messages: Annotated[list, add_messages]\n",
    "\n",
    "memory = MemorySaver()"
   ]
  },
  {
   "cell_type": "code",
   "execution_count": 41,
   "metadata": {},
   "outputs": [],
   "source": [
    "def chatbot(state: State):\n",
    "    return {'messages': [llm.invoke(state['messages'])]}"
   ]
  },
  {
   "cell_type": "code",
   "execution_count": 42,
   "metadata": {},
   "outputs": [],
   "source": [
    "graph_builder = StateGraph(State)\n",
    "\n",
    "graph_builder.add_node('chatbot', chatbot)\n",
    "\n",
    "graph_builder.add_edge(START, 'chatbot')\n",
    "graph_builder.add_edge('chatbot', END)\n",
    "\n",
    "# graph = graph_builder.compile(checkpointer=memory)\n",
    "graph = graph_builder.compile()"
   ]
  },
  {
   "cell_type": "code",
   "execution_count": 43,
   "metadata": {},
   "outputs": [
    {
     "data": {
      "image/png": "[encoded data removed]",
      "text/plain": [
       "<IPython.core.display.Image object>"
      ]
     },
     "metadata": {},
     "output_type": "display_data"
    }
   ],
   "source": [
    "from IPython.display import Image, display\n",
    "\n",
    "try:\n",
    "    display(Image(graph.get_graph().draw_mermaid_png()))\n",
    "except Exception:\n",
    "    # This requires some extra dependencies and is optional\n",
    "    pass"
   ]
  },
  {
   "cell_type": "code",
   "execution_count": 44,
   "metadata": {},
   "outputs": [
    {
     "data": {
      "text/plain": [
       "{'messages': [HumanMessage(content='What happened in the Olympics', additional_kwargs={}, response_metadata={}, id='e256506c-ab5a-4cf4-a412-c8ae4b7b9901'),\n",
       "  AIMessage(content=\"You're referring to the most recent Olympic Games! The 2020 Summer Olympics, officially known as the Games of the XXXII Olympiad, took place in Tokyo, Japan, from July 23 to August 8, 2021. Here are some of the highlights:\\n\\n**Medal Count:**\\n\\n* United States: 39 gold medals, 41 silver medals, 33 bronze medals (total: 113 medals)\\n* China: 38 gold medals, 32 silver medals, 18 bronze medals (total: 88 medals)\\n* Japan: 27 gold medals, 14 silver medals, 17 bronze medals (total: 58 medals)\\n\\n**Notable Moments:**\\n\\n1. **Simone Biles withdraws:** American gymnast Simone Biles withdrew from the team final and the individual all-around competition due to a mental health issue, sparking a global conversation about athlete well-being.\\n2. **Neeraj Chopra's historic gold:** Indian athlete Neeraj Chopra won the country's first-ever Olympic gold medal in the men's javelin throw.\\n3. **Caeleb Dressel's dominance:** American swimmer Caeleb Dressel won five gold medals and broke multiple world records in the 100m butterfly, 100m freestyle, 4x100m freestyle relay, 4x100m medley relay, and 4x200m freestyle relay.\\n4. **Katie Ledecky's record-breaking:** American swimmer Katie Ledecky won two gold medals and set world records in the 200m and 400m freestyle events.\\n5. **Surprise winners:** Athletes like Italy's Gianmarco Tamberi (high jump), Poland's Wojciech Nowicki (hammer throw), and Jamaica's Elaine Thompson-Herah (100m and 200m sprint) won unexpected gold medals.\\n6. **COVID-19 protocols:** The Olympics implemented various COVID-19 protocols, including reduced spectator capacity, social distancing, and daily testing for athletes and officials.\\n7. **Opening and Closing Ceremonies:** The opening ceremony featured a stunning display of Japanese culture, while the closing ceremony included a performance by Japanese pop star Arashi and a farewell message from the Tokyo 2020 Organizing Committee.\\n\\nThese are just a few of the many exciting moments from the 2020 Summer Olympics. If you'd like to know more about a specific sport or event, feel free to ask!\", additional_kwargs={}, response_metadata={'token_usage': {'completion_tokens': 505, 'prompt_tokens': 15, 'total_tokens': 520, 'completion_time': 0.420833333, 'prompt_time': 0.003169349, 'queue_time': 0.23824225400000001, 'total_time': 0.424002682}, 'model_name': 'llama3-8b-8192', 'system_fingerprint': 'fp_179b0f92c9', 'finish_reason': 'stop', 'logprobs': None}, id='run-7a04770c-60d5-4755-b28e-bf7c4dcfbd3e-0', usage_metadata={'input_tokens': 15, 'output_tokens': 505, 'total_tokens': 520})]}"
      ]
     },
     "execution_count": 44,
     "metadata": {},
     "output_type": "execute_result"
    }
   ],
   "source": [
    "config = {\"configurable\": {\"thread_id\": \"1\"}}\n",
    "input_message = HumanMessage(content=\"What happened in the Olympics\")\n",
    "\n",
    "graph.invoke({'messages' : [input_message]}, config)"
   ]
  },
  {
   "cell_type": "markdown",
   "metadata": {},
   "source": [
    "### WITH TOOLS"
   ]
  },
  {
   "cell_type": "code",
   "execution_count": null,
   "metadata": {},
   "outputs": [],
   "source": [
    "memory = MemorySaver()\n",
    "\n",
    "market_analysis_prompt_template = ChatPromptTemplate.from_messages([\n",
    "    ('user', '''\n",
    "                Given that the stock prices for the past twenty days are: {stock_prices}, and the time-series forecast for the next 7 days\n",
    "                are {predicted_prices}, provide a comprehensive market analysis of the stock.\n",
    "            ''')\n",
    "])\n",
    "\n",
    "prompt_template = ChatPromptTemplate.from_messages([\n",
    "    ('user', '''\n",
    "                Do not hallucinate, depend on your tools and the information they give.\n",
    "            ''')\n",
    "])\n",
    "\n",
    "class State(TypedDict):\n",
    "    messages: Annotated[list, add_messages]\n",
    "    stock_prices: list\n",
    "    predicted_prices: list\n",
    "    analysis: str\n",
    "\n",
    "def stock_prices(state: State):\n",
    "    \"\"\"fetches stock prices\"\"\"\n",
    "\n",
    "    return \"\"\"\n",
    "        1. 2025-03-26: $2,444.99\n",
    "        2. 2025-03-25: $2,434.99\n",
    "        3. 2025-03-24: $2,424.99\n",
    "        4. 2025-03-23: $2,414.99\n",
    "        5. 2025-03-22: $2,404.99\n",
    "        6. 2025-03-21: $2,394.99\n",
    "        7. 2025-03-20: $2,384.99\n",
    "        8. 2025-03-19: $2,374.99\n",
    "        9. 2025-03-18: $2,364.99\n",
    "        10. 2025-03-17: $2,354.99\n",
    "        11. 2025-03-16: $2,344.99\n",
    "        12. 2025-03-15: $2,334.99\n",
    "        13. 2025-03-14: $2,324.99\n",
    "        14. 2025-03-13: $2,314.99\n",
    "        15. 2025-03-12: $2,304.99\n",
    "        16. 2025-03-11: $2,294.99\n",
    "        17. 2025-03-10: $2,284.99\n",
    "        18. 2025-03-09: $2,274.99\n",
    "        19. 2025-03-08: $2,264.99\n",
    "        20. 2025-03-07: $2,254.99\n",
    "        21. 2025-03-06: $2,244.99\n",
    "        22. 2025-03-05: $2,234.99\n",
    "        23. 2025-03-04: $2,224.99\n",
    "        24. 2025-03-03: $2,214.99\n",
    "        25. 2025-03-02: $2,204.99\n",
    "        26. 2025-02-28: $2,194.99\n",
    "        27. 2025-02-27: $2,184.99\n",
    "        28. 2025-02-26: $2,174.99\n",
    "        29. 2025-02-25: $2,164.99\n",
    "        30. 2025-02-24: $2,154.99\n",
    "        \"\"\"\n",
    "\n",
    "def stock_forecaster(state: State):\n",
    "    pattern = r\"(\\d{4}-\\d{2}-\\d{2}): \\$?([\\d,]+\\.\\d{2})\"\n",
    "\n",
    "    matches = re.findall(pattern, state['messages'][2].content)\n",
    "\n",
    "    structured_prices = [{\"date\": date, \"price\": float(price.replace(\",\", \"\"))} for date, price in matches]\n",
    "\n",
    "    return {'stock_prices': structured_prices, 'predicted_prices': ['1,834', '1,734', '1,934', '1,724', '1,254', '1,834', '1,734']}\n",
    "\n",
    "def market_analyser(state: State):\n",
    "    analyst = market_analysis_prompt_template | llm\n",
    "\n",
    "    response = analyst.invoke({'stock_prices': state['stock_prices'], 'predicted_prices': state['predicted_prices']})\n",
    "\n",
    "    return {'analysis': response.content}\n",
    "\n",
    "api_wrapper = PolygonAPIWrapper()\n",
    "aggregate_tool = PolygonAggregates(api_wrapper=api_wrapper)\n",
    "\n",
    "tools = [stock_prices]\n",
    "llm_with_tools = llm.bind_tools(tools=tools)\n",
    "\n",
    "\n",
    "def chatbot(state: State):\n",
    "    response = llm_with_tools.invoke(state['messages'])\n",
    "    return {'messages': [response]}\n",
    "\n",
    "graph_builder = StateGraph(State)\n",
    "\n",
    "graph_builder.add_node('chatbot', chatbot)\n",
    "graph_builder.add_node('stock_forecaster', stock_forecaster)\n",
    "graph_builder.add_node('market_analyser', market_analyser)\n",
    "\n",
    "tool_node = ToolNode(tools=tools)\n",
    "\n",
    "graph_builder.add_node(\"tools\", tool_node)\n",
    "\n",
    "graph_builder.add_conditional_edges(\n",
    "    'chatbot',\n",
    "     tools_condition,\n",
    ")\n",
    "\n",
    "graph_builder.add_edge('tools', 'stock_forecaster')\n",
    "graph_builder.add_edge('stock_forecaster', 'market_analyser')\n",
    "\n",
    "graph_builder.set_finish_point('market_analyser')\n",
    "graph_builder.set_entry_point('chatbot')\n",
    "\n",
    "graph = graph_builder.compile()\n"
   ]
  },
  {
   "cell_type": "code",
   "execution_count": 55,
   "metadata": {},
   "outputs": [
    {
     "data": {
      "image/png": "[encoded data removed]",
      "text/plain": [
       "<IPython.core.display.Image object>"
      ]
     },
     "metadata": {},
     "output_type": "display_data"
    }
   ],
   "source": [
    "from IPython.display import Image, display\n",
    "\n",
    "try:\n",
    "    display(Image(graph.get_graph().draw_mermaid_png()))\n",
    "except Exception:\n",
    "    display('e no work')\n",
    "    pass"
   ]
  },
  {
   "cell_type": "code",
   "execution_count": 56,
   "metadata": {},
   "outputs": [
    {
     "name": "stdout",
     "output_type": "stream",
     "text": [
      "================================\u001b[1m Human Message \u001b[0m=================================\n",
      "\n",
      "Market analysis of GOOG stock prices over the past 10 days alongside possible forecast, today's date is 2025-03-26, e.g 1. 2025-02-26: [stock information]\n",
      "==================================\u001b[1m Ai Message \u001b[0m==================================\n",
      "Tool Calls:\n",
      "  stock_prices (call_w100)\n",
      " Call ID: call_w100\n",
      "  Args:\n",
      "    state: {'analysis': 'long-term', 'messages': [], 'predicted_prices': [], 'stock_prices': []}\n",
      "=================================\u001b[1m Tool Message \u001b[0m=================================\n",
      "Name: stock_prices\n",
      "\n",
      "\n",
      "        1. 2025-03-26: $2,444.99\n",
      "        2. 2025-03-25: $2,434.99\n",
      "        3. 2025-03-24: $2,424.99\n",
      "        4. 2025-03-23: $2,414.99\n",
      "        5. 2025-03-22: $2,404.99\n",
      "        6. 2025-03-21: $2,394.99\n",
      "        7. 2025-03-20: $2,384.99\n",
      "        8. 2025-03-19: $2,374.99\n",
      "        9. 2025-03-18: $2,364.99\n",
      "        10. 2025-03-17: $2,354.99\n",
      "        11. 2025-03-16: $2,344.99\n",
      "        12. 2025-03-15: $2,334.99\n",
      "        13. 2025-03-14: $2,324.99\n",
      "        14. 2025-03-13: $2,314.99\n",
      "        15. 2025-03-12: $2,304.99\n",
      "        16. 2025-03-11: $2,294.99\n",
      "        17. 2025-03-10: $2,284.99\n",
      "        18. 2025-03-09: $2,274.99\n",
      "        19. 2025-03-08: $2,264.99\n",
      "        20. 2025-03-07: $2,254.99\n",
      "        21. 2025-03-06: $2,244.99\n",
      "        22. 2025-03-05: $2,234.99\n",
      "        23. 2025-03-04: $2,224.99\n",
      "        24. 2025-03-03: $2,214.99\n",
      "        25. 2025-03-02: $2,204.99\n",
      "        26. 2025-02-28: $2,194.99\n",
      "        27. 2025-02-27: $2,184.99\n",
      "        28. 2025-02-26: $2,174.99\n",
      "        29. 2025-02-25: $2,164.99\n",
      "        30. 2025-02-24: $2,154.99\n",
      "        \n",
      "=================================\u001b[1m Tool Message \u001b[0m=================================\n",
      "Name: stock_prices\n",
      "\n",
      "\n",
      "        1. 2025-03-26: $2,444.99\n",
      "        2. 2025-03-25: $2,434.99\n",
      "        3. 2025-03-24: $2,424.99\n",
      "        4. 2025-03-23: $2,414.99\n",
      "        5. 2025-03-22: $2,404.99\n",
      "        6. 2025-03-21: $2,394.99\n",
      "        7. 2025-03-20: $2,384.99\n",
      "        8. 2025-03-19: $2,374.99\n",
      "        9. 2025-03-18: $2,364.99\n",
      "        10. 2025-03-17: $2,354.99\n",
      "        11. 2025-03-16: $2,344.99\n",
      "        12. 2025-03-15: $2,334.99\n",
      "        13. 2025-03-14: $2,324.99\n",
      "        14. 2025-03-13: $2,314.99\n",
      "        15. 2025-03-12: $2,304.99\n",
      "        16. 2025-03-11: $2,294.99\n",
      "        17. 2025-03-10: $2,284.99\n",
      "        18. 2025-03-09: $2,274.99\n",
      "        19. 2025-03-08: $2,264.99\n",
      "        20. 2025-03-07: $2,254.99\n",
      "        21. 2025-03-06: $2,244.99\n",
      "        22. 2025-03-05: $2,234.99\n",
      "        23. 2025-03-04: $2,224.99\n",
      "        24. 2025-03-03: $2,214.99\n",
      "        25. 2025-03-02: $2,204.99\n",
      "        26. 2025-02-28: $2,194.99\n",
      "        27. 2025-02-27: $2,184.99\n",
      "        28. 2025-02-26: $2,174.99\n",
      "        29. 2025-02-25: $2,164.99\n",
      "        30. 2025-02-24: $2,154.99\n",
      "        \n",
      "=================================\u001b[1m Tool Message \u001b[0m=================================\n",
      "Name: stock_prices\n",
      "\n",
      "\n",
      "        1. 2025-03-26: $2,444.99\n",
      "        2. 2025-03-25: $2,434.99\n",
      "        3. 2025-03-24: $2,424.99\n",
      "        4. 2025-03-23: $2,414.99\n",
      "        5. 2025-03-22: $2,404.99\n",
      "        6. 2025-03-21: $2,394.99\n",
      "        7. 2025-03-20: $2,384.99\n",
      "        8. 2025-03-19: $2,374.99\n",
      "        9. 2025-03-18: $2,364.99\n",
      "        10. 2025-03-17: $2,354.99\n",
      "        11. 2025-03-16: $2,344.99\n",
      "        12. 2025-03-15: $2,334.99\n",
      "        13. 2025-03-14: $2,324.99\n",
      "        14. 2025-03-13: $2,314.99\n",
      "        15. 2025-03-12: $2,304.99\n",
      "        16. 2025-03-11: $2,294.99\n",
      "        17. 2025-03-10: $2,284.99\n",
      "        18. 2025-03-09: $2,274.99\n",
      "        19. 2025-03-08: $2,264.99\n",
      "        20. 2025-03-07: $2,254.99\n",
      "        21. 2025-03-06: $2,244.99\n",
      "        22. 2025-03-05: $2,234.99\n",
      "        23. 2025-03-04: $2,224.99\n",
      "        24. 2025-03-03: $2,214.99\n",
      "        25. 2025-03-02: $2,204.99\n",
      "        26. 2025-02-28: $2,194.99\n",
      "        27. 2025-02-27: $2,184.99\n",
      "        28. 2025-02-26: $2,174.99\n",
      "        29. 2025-02-25: $2,164.99\n",
      "        30. 2025-02-24: $2,154.99\n",
      "        \n"
     ]
    }
   ],
   "source": [
    "from datetime import datetime\n",
    "\n",
    "config = {\"configurable\": {\"thread_id\": \"1\"}}\n",
    "stock = 'GOOG'\n",
    "# Get today's date\n",
    "today = datetime.today().date()\n",
    "\n",
    "today = today.strftime(\"%Y-%m-%d\")\n",
    "\n",
    "user_input = HumanMessage(content=f\"Market analysis of GOOG stock prices over the past 10 days alongside possible forecast, today's date is {today}, e.g 1. 2025-02-26: [stock information]\")\n",
    "\n",
    "events = graph.stream(\n",
    "    {\"messages\": [user_input]},\n",
    "    config,\n",
    "    stream_mode=\"values\",\n",
    ")\n",
    "\n",
    "for event in events:\n",
    "    event[\"messages\"][-1].pretty_print()"
   ]
  },
  {
   "cell_type": "code",
   "execution_count": 57,
   "metadata": {},
   "outputs": [],
   "source": [
    "user_input = HumanMessage(content=f\"Market analysis of GOOG stock prices over the past 20 days alongside possible forecast, today's date is {today}, e.g 1. 2025-02-26: $2312.12\")\n",
    "\n",
    "state = graph.invoke({'messages' : [user_input]}, config)"
   ]
  },
  {
   "cell_type": "code",
   "execution_count": 58,
   "metadata": {},
   "outputs": [
    {
     "data": {
      "text/plain": [
       "{'messages': [HumanMessage(content=\"Market analysis of GOOG stock prices over the past 20 days alongside possible forecast, today's date is 2025-03-26, e.g 1. 2025-02-26: $2312.12\", additional_kwargs={}, response_metadata={}, id='caa6feea-1611-407c-8f4c-4be70f168881'),\n",
       "  AIMessage(content='', additional_kwargs={'tool_calls': [{'id': 'call_4jzg', 'function': {'arguments': '{\"state\":{\"analysis\":\"market_analysis\",\"messages\":[],\"predicted_prices\":[],\"stock_prices\":[{\"date\":\"2025-02-26\",\"price\":2312.12},{\"date\":\"2025-02-27\",\"price\":2321.15},{\"date\":\"2025-02-28\",\"price\":2330.18},{\"date\":\"2025-03-01\",\"price\":2339.21},{\"date\":\"2025-03-02\",\"price\":2348.24},{\"date\":\"2025-03-03\",\"price\":2357.27},{\"date\":\"2025-03-04\",\"price\":2366.30},{\"date\":\"2025-03-05\",\"price\":2375.33},{\"date\":\"2025-03-06\",\"price\":2384.36},{\"date\":\"2025-03-07\",\"price\":2393.39},{\"date\":\"2025-03-08\",\"price\":2402.42},{\"date\":\"2025-03-09\",\"price\":2411.45},{\"date\":\"2025-03-10\",\"price\":2420.48},{\"date\":\"2025-03-11\",\"price\":2429.51},{\"date\":\"2025-03-12\",\"price\":2438.54},{\"date\":\"2025-03-13\",\"price\":2447.57},{\"date\":\"2025-03-14\",\"price\":2456.60},{\"date\":\"2025-03-15\",\"price\":2465.63},{\"date\":\"2025-03-16\",\"price\":2474.66},{\"date\":\"2025-03-17\",\"price\":2483.69},{\"date\":\"2025-03-18\",\"price\":2492.72},{\"date\":\"2025-03-19\",\"price\":2501.75},{\"date\":\"2025-03-20\",\"price\":2510.78},{\"date\":\"2025-03-21\",\"price\":2519.81},{\"date\":\"2025-03-22\",\"price\":2528.84},{\"date\":\"2025-03-23\",\"price\":2537.87},{\"date\":\"2025-03-24\",\"price\":2546.90},{\"date\":\"2025-03-25\",\"price\":2555.93}]}}', 'name': 'stock_prices'}, 'type': 'function'}]}, response_metadata={'token_usage': {'completion_tokens': 681, 'prompt_tokens': 1068, 'total_tokens': 1749, 'completion_time': 0.5675, 'prompt_time': 0.134422117, 'queue_time': 0.16178089699999998, 'total_time': 0.701922117}, 'model_name': 'llama3-8b-8192', 'system_fingerprint': 'fp_dadc9d6142', 'finish_reason': 'tool_calls', 'logprobs': None}, id='run-20970562-0481-4175-a3d3-a1a4d4130eaf-0', tool_calls=[{'name': 'stock_prices', 'args': {'state': {'analysis': 'market_analysis', 'messages': [], 'predicted_prices': [], 'stock_prices': [{'date': '2025-02-26', 'price': 2312.12}, {'date': '2025-02-27', 'price': 2321.15}, {'date': '2025-02-28', 'price': 2330.18}, {'date': '2025-03-01', 'price': 2339.21}, {'date': '2025-03-02', 'price': 2348.24}, {'date': '2025-03-03', 'price': 2357.27}, {'date': '2025-03-04', 'price': 2366.3}, {'date': '2025-03-05', 'price': 2375.33}, {'date': '2025-03-06', 'price': 2384.36}, {'date': '2025-03-07', 'price': 2393.39}, {'date': '2025-03-08', 'price': 2402.42}, {'date': '2025-03-09', 'price': 2411.45}, {'date': '2025-03-10', 'price': 2420.48}, {'date': '2025-03-11', 'price': 2429.51}, {'date': '2025-03-12', 'price': 2438.54}, {'date': '2025-03-13', 'price': 2447.57}, {'date': '2025-03-14', 'price': 2456.6}, {'date': '2025-03-15', 'price': 2465.63}, {'date': '2025-03-16', 'price': 2474.66}, {'date': '2025-03-17', 'price': 2483.69}, {'date': '2025-03-18', 'price': 2492.72}, {'date': '2025-03-19', 'price': 2501.75}, {'date': '2025-03-20', 'price': 2510.78}, {'date': '2025-03-21', 'price': 2519.81}, {'date': '2025-03-22', 'price': 2528.84}, {'date': '2025-03-23', 'price': 2537.87}, {'date': '2025-03-24', 'price': 2546.9}, {'date': '2025-03-25', 'price': 2555.93}]}}, 'id': 'call_4jzg', 'type': 'tool_call'}], usage_metadata={'input_tokens': 1068, 'output_tokens': 681, 'total_tokens': 1749}),\n",
       "  ToolMessage(content='\\n        1. 2025-03-26: $2,444.99\\n        2. 2025-03-25: $2,434.99\\n        3. 2025-03-24: $2,424.99\\n        4. 2025-03-23: $2,414.99\\n        5. 2025-03-22: $2,404.99\\n        6. 2025-03-21: $2,394.99\\n        7. 2025-03-20: $2,384.99\\n        8. 2025-03-19: $2,374.99\\n        9. 2025-03-18: $2,364.99\\n        10. 2025-03-17: $2,354.99\\n        11. 2025-03-16: $2,344.99\\n        12. 2025-03-15: $2,334.99\\n        13. 2025-03-14: $2,324.99\\n        14. 2025-03-13: $2,314.99\\n        15. 2025-03-12: $2,304.99\\n        16. 2025-03-11: $2,294.99\\n        17. 2025-03-10: $2,284.99\\n        18. 2025-03-09: $2,274.99\\n        19. 2025-03-08: $2,264.99\\n        20. 2025-03-07: $2,254.99\\n        21. 2025-03-06: $2,244.99\\n        22. 2025-03-05: $2,234.99\\n        23. 2025-03-04: $2,224.99\\n        24. 2025-03-03: $2,214.99\\n        25. 2025-03-02: $2,204.99\\n        26. 2025-02-28: $2,194.99\\n        27. 2025-02-27: $2,184.99\\n        28. 2025-02-26: $2,174.99\\n        29. 2025-02-25: $2,164.99\\n        30. 2025-02-24: $2,154.99\\n        ', name='stock_prices', id='895e36f9-5d0a-4306-b794-3623db1436ce', tool_call_id='call_4jzg')],\n",
       " 'stock_prices': [{'date': '2025-03-26', 'price': 2444.99},\n",
       "  {'date': '2025-03-25', 'price': 2434.99},\n",
       "  {'date': '2025-03-24', 'price': 2424.99},\n",
       "  {'date': '2025-03-23', 'price': 2414.99},\n",
       "  {'date': '2025-03-22', 'price': 2404.99},\n",
       "  {'date': '2025-03-21', 'price': 2394.99},\n",
       "  {'date': '2025-03-20', 'price': 2384.99},\n",
       "  {'date': '2025-03-19', 'price': 2374.99},\n",
       "  {'date': '2025-03-18', 'price': 2364.99},\n",
       "  {'date': '2025-03-17', 'price': 2354.99},\n",
       "  {'date': '2025-03-16', 'price': 2344.99},\n",
       "  {'date': '2025-03-15', 'price': 2334.99},\n",
       "  {'date': '2025-03-14', 'price': 2324.99},\n",
       "  {'date': '2025-03-13', 'price': 2314.99},\n",
       "  {'date': '2025-03-12', 'price': 2304.99},\n",
       "  {'date': '2025-03-11', 'price': 2294.99},\n",
       "  {'date': '2025-03-10', 'price': 2284.99},\n",
       "  {'date': '2025-03-09', 'price': 2274.99},\n",
       "  {'date': '2025-03-08', 'price': 2264.99},\n",
       "  {'date': '2025-03-07', 'price': 2254.99},\n",
       "  {'date': '2025-03-06', 'price': 2244.99},\n",
       "  {'date': '2025-03-05', 'price': 2234.99},\n",
       "  {'date': '2025-03-04', 'price': 2224.99},\n",
       "  {'date': '2025-03-03', 'price': 2214.99},\n",
       "  {'date': '2025-03-02', 'price': 2204.99},\n",
       "  {'date': '2025-02-28', 'price': 2194.99},\n",
       "  {'date': '2025-02-27', 'price': 2184.99},\n",
       "  {'date': '2025-02-26', 'price': 2174.99},\n",
       "  {'date': '2025-02-25', 'price': 2164.99},\n",
       "  {'date': '2025-02-24', 'price': 2154.99}],\n",
       " 'predicted_prices': ['1,834',\n",
       "  '1,734',\n",
       "  '1,934',\n",
       "  '1,724',\n",
       "  '1,254',\n",
       "  '1,834',\n",
       "  '1,734'],\n",
       " 'analysis': '**Market Analysis**\\n\\n**Historical Data Analysis**\\n\\nThe historical stock price data for the past 20 days shows a downward trend, with a slight increase in the last few days. The stock price has been steadily decreasing from $2444.99 to $2194.99, with a total decline of 10.5% over the 20-day period.\\n\\n**Key Statistics**\\n\\n* Highest price: $2444.99 (2025-03-26)\\n* Lowest price: $2194.99 (2025-02-28)\\n* Average price: $2314.99\\n* Standard deviation: $54.99\\n* Variance: 3.02%\\n\\n**Time-Series Forecast Analysis**\\n\\nThe time-series forecast for the next 7 days shows a mixed trend, with prices ranging from $1254 to $1934. The forecast suggests that the stock price may continue to fluctuate in the short-term, with no clear direction.\\n\\n**Comparison of Historical and Forecast Data**\\n\\nThe historical data shows a downward trend, while the forecast data suggests a mixed trend. This could indicate that the stock price may be due for a rebound or a correction in the short-term.\\n\\n**Market Sentiment Analysis**\\n\\nBased on the historical data, the market sentiment appears to be bearish, with a majority of the days showing a decline in stock price. However, the forecast data suggests that the market sentiment may be shifting towards a more neutral or even bullish sentiment in the short-term.\\n\\n**Technical Analysis**\\n\\nThe technical analysis of the stock price data suggests that the stock is trading below its 20-day moving average, which could indicate a bearish trend. However, the stock is also trading above its 50-day moving average, which could indicate a potential reversal.\\n\\n**Conclusion**\\n\\nBased on the comprehensive market analysis, the stock appears to be in a downward trend, with a slight increase in the last few days. The time-series forecast suggests a mixed trend in the short-term, which could indicate a potential rebound or correction. The market sentiment appears to be bearish, but the technical analysis suggests a potential reversal. Overall, the stock is considered to be a high-risk, high-reward investment opportunity.\\n\\n**Recommendation**\\n\\nBased on the analysis, I recommend a cautious approach to investing in this stock. Investors may consider a short-term trading strategy, such as a day trade or a swing trade, to take advantage of the potential fluctuations in the stock price. However, investors should also be prepared for potential losses and consider hedging their positions to minimize risk.'}"
      ]
     },
     "execution_count": 58,
     "metadata": {},
     "output_type": "execute_result"
    }
   ],
   "source": [
    "state"
   ]
  },
  {
   "cell_type": "code",
   "execution_count": 59,
   "metadata": {},
   "outputs": [
    {
     "name": "stdout",
     "output_type": "stream",
     "text": [
      "**Market Analysis**\n",
      "\n",
      "**Historical Data Analysis**\n",
      "\n",
      "The historical stock price data for the past 20 days shows a downward trend, with a slight increase in the last few days. The stock price has been steadily decreasing from $2444.99 to $2194.99, with a total decline of 10.5% over the 20-day period.\n",
      "\n",
      "**Key Statistics**\n",
      "\n",
      "* Highest price: $2444.99 (2025-03-26)\n",
      "* Lowest price: $2194.99 (2025-02-28)\n",
      "* Average price: $2314.99\n",
      "* Standard deviation: $54.99\n",
      "* Variance: 3.02%\n",
      "\n",
      "**Time-Series Forecast Analysis**\n",
      "\n",
      "The time-series forecast for the next 7 days shows a mixed trend, with prices ranging from $1254 to $1934. The forecast suggests that the stock price may continue to fluctuate in the short-term, with no clear direction.\n",
      "\n",
      "**Comparison of Historical and Forecast Data**\n",
      "\n",
      "The historical data shows a downward trend, while the forecast data suggests a mixed trend. This could indicate that the stock price may be due for a rebound or a correction in the short-term.\n",
      "\n",
      "**Market Sentiment Analysis**\n",
      "\n",
      "Based on the historical data, the market sentiment appears to be bearish, with a majority of the days showing a decline in stock price. However, the forecast data suggests that the market sentiment may be shifting towards a more neutral or even bullish sentiment in the short-term.\n",
      "\n",
      "**Technical Analysis**\n",
      "\n",
      "The technical analysis of the stock price data suggests that the stock is trading below its 20-day moving average, which could indicate a bearish trend. However, the stock is also trading above its 50-day moving average, which could indicate a potential reversal.\n",
      "\n",
      "**Conclusion**\n",
      "\n",
      "Based on the comprehensive market analysis, the stock appears to be in a downward trend, with a slight increase in the last few days. The time-series forecast suggests a mixed trend in the short-term, which could indicate a potential rebound or correction. The market sentiment appears to be bearish, but the technical analysis suggests a potential reversal. Overall, the stock is considered to be a high-risk, high-reward investment opportunity.\n",
      "\n",
      "**Recommendation**\n",
      "\n",
      "Based on the analysis, I recommend a cautious approach to investing in this stock. Investors may consider a short-term trading strategy, such as a day trade or a swing trade, to take advantage of the potential fluctuations in the stock price. However, investors should also be prepared for potential losses and consider hedging their positions to minimize risk.\n"
     ]
    }
   ],
   "source": [
    "print(state['analysis'])"
   ]
  },
  {
   "cell_type": "code",
   "execution_count": null,
   "metadata": {},
   "outputs": [],
   "source": []
  }
 ],
 "metadata": {
  "kernelspec": {
   "display_name": "quant",
   "language": "python",
   "name": "python3"
  },
  "language_info": {
   "codemirror_mode": {
    "name": "ipython",
    "version": 3
   },
   "file_extension": ".py",
   "mimetype": "text/x-python",
   "name": "python",
   "nbconvert_exporter": "python",
   "pygments_lexer": "ipython3",
   "version": "3.9.13"
  }
 },
 "nbformat": 4,
 "nbformat_minor": 2
}
